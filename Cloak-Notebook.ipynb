{
 "cells": [
  {
   "cell_type": "markdown",
   "metadata": {},
   "source": [
    "Add libraries"
   ]
  },
  {
   "cell_type": "code",
   "execution_count": 12,
   "metadata": {},
   "outputs": [],
   "source": [
    "import cv2\n",
    "import time\n",
    "import numpy as np"
   ]
  },
  {
   "cell_type": "markdown",
   "metadata": {},
   "source": [
    " Preparation for writing the ouput video"
   ]
  },
  {
   "cell_type": "code",
   "execution_count": 24,
   "metadata": {},
   "outputs": [],
   "source": [
    "fourcc = cv2.VideoWriter_fourcc(*'XVID')\n",
    "out = cv2.VideoWriter('output.avi', fourcc, 20.0, (640, 480))"
   ]
  },
  {
   "cell_type": "markdown",
   "metadata": {},
   "source": [
    "Reading from the webcam(Use 0 if -1 doesn't work) 0 ,-1 represnts the webcam id"
   ]
  },
  {
   "cell_type": "code",
   "execution_count": 14,
   "metadata": {},
   "outputs": [],
   "source": [
    "cap = cv2.VideoCapture(-1)"
   ]
  },
  {
   "cell_type": "markdown",
   "metadata": {},
   "source": [
    "Allow the system to sleep for 5 seconds before the webcam starts.\n",
    "You can reduce this time. Linux takes a longer time than windows"
   ]
  },
  {
   "cell_type": "code",
   "execution_count": 15,
   "metadata": {},
   "outputs": [],
   "source": [
    "time.sleep(5)\n",
    "count = 0\n",
    "background = 0"
   ]
  },
  {
   "cell_type": "markdown",
   "metadata": {},
   "source": [
    "Capture the background in range of 60 for creating the background layer"
   ]
  },
  {
   "cell_type": "code",
   "execution_count": 16,
   "metadata": {},
   "outputs": [],
   "source": [
    "for i in range(60):\n",
    "    ret, background = cap.read()\n",
    "background = np.flip(background, axis=1)"
   ]
  },
  {
   "cell_type": "markdown",
   "metadata": {},
   "source": [
    "Color ranges you want to use:"
   ]
  },
  {
   "cell_type": "code",
   "execution_count": 17,
   "metadata": {},
   "outputs": [],
   "source": [
    "# Red color\n",
    "low_red = np.array([161, 155, 84])\n",
    "high_red = np.array([179, 255, 255])\n",
    "# Blue color\n",
    "low_blue = np.array([94, 80, 2])\n",
    "high_blue = np.array([126, 255, 255])\n",
    "# Green color\n",
    "low_green = np.array([25, 52, 72])\n",
    "high_green = np.array([102, 255, 255])\n",
    "# White color  \n",
    "low_white = np.array([0, 0, 0])\n",
    "high_white = np.array([0, 0, 255])\n",
    "#colors code\n",
    "\n",
    "#skin color Values\n",
    "#lower_red = np.array([0, 0, 70])\n",
    "#upper_red = np.array([100, 255,255])\n",
    "# mask1 = cv2.inRange(hsv, lower_red, upper_red)\n"
   ]
  },
  {
   "cell_type": "markdown",
   "metadata": {},
   "source": [
    "Read every frame from the webcam, until the camera is open"
   ]
  },
  {
   "cell_type": "code",
   "execution_count": 18,
   "metadata": {},
   "outputs": [],
   "source": [
    "while (cap.isOpened()):\n",
    "    ret, img = cap.read()\n",
    "    if not ret:\n",
    "        break\n",
    "    count += 1\n",
    "    img = np.flip(img, axis=1)\n",
    "\n",
    "    ## Convert the color space from BGR to HSV for capturing different intenseties of color\n",
    "    hsv = cv2.cvtColor(img, cv2.COLOR_BGR2HSV)\n",
    "\n",
    "    ## Generat masks to detect color\n",
    "    \n",
    "    ##YOU CAN CHANGE THE COLOR VALUE BELOW ACCORDING TO YOUR CLOTH COLOR\n",
    "\n",
    "\n",
    "    # setting the lower and upper range for mask1 \n",
    "    lower_red = np.array([100, 40, 40])        \n",
    "    upper_red = np.array([100, 255, 255]) \n",
    "    mask1 = cv2.inRange(hsv, lower_red, upper_red) \n",
    "    # setting the lower and upper range for mask2  \n",
    "    lower_red = np.array([155, 40, 40]) \n",
    "    upper_red = np.array([180, 255, 255]) \n",
    "    mask2 = cv2.inRange(hsv, lower_red, upper_red) \n",
    "    \n",
    "    mask1 = mask1 + mask2\n",
    "\n",
    "    ## Open and Dilate the mask image\n",
    "    mask1 = cv2.morphologyEx(mask1, cv2.MORPH_OPEN, np.ones((3, 3), np.uint8))\n",
    "    mask1 = cv2.morphologyEx(mask1, cv2.MORPH_DILATE, np.ones((3, 3), np.uint8))\n",
    "\n",
    "    ## Create an inverted mask to segment out the red color from the frame\n",
    "    mask2 = cv2.bitwise_not(mask1)\n",
    "\n",
    "    ## Segment the red color part out of the frame using bitwise and with the inverted mask\n",
    "    res1 = cv2.bitwise_and(img, img, mask=mask2)\n",
    "\n",
    "    ## Create image showing static background frame pixels only for the masked region\n",
    "    res2 = cv2.bitwise_and(background, background, mask=mask1)\n",
    "\n",
    "    ## Generating the final output and writing\n",
    "    finalOutput = cv2.addWeighted(res1, 1, res2, 1, 0)\n",
    "    out.write(finalOutput)\n",
    "    cv2.imshow(\"Bloody Muggle! Exit(q)\", finalOutput)\n",
    "    if cv2.waitKey(1) & 0xFF == ord('q'):\n",
    "        break\n",
    "\n",
    "cap.release()\n",
    "out.release()\n",
    "cv2.destroyAllWindows()"
   ]
  },
  {
   "cell_type": "markdown",
   "metadata": {},
   "source": [
    "Save everthing and close windows (We put the release statements above so that the cell will move to idle state)"
   ]
  }
 ],
 "metadata": {
  "kernelspec": {
   "display_name": "Python 3",
   "language": "python",
   "name": "python3"
  },
  "language_info": {
   "codemirror_mode": {
    "name": "ipython",
    "version": 3
   },
   "file_extension": ".py",
   "mimetype": "text/x-python",
   "name": "python",
   "nbconvert_exporter": "python",
   "pygments_lexer": "ipython3",
   "version": "3.8.2"
  }
 },
 "nbformat": 4,
 "nbformat_minor": 4
}
